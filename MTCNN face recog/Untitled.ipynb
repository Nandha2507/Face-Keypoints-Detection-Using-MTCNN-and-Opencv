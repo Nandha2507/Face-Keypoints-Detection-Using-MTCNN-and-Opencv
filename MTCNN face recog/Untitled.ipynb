{
 "cells": [
  {
   "cell_type": "code",
   "execution_count": 2,
   "metadata": {},
   "outputs": [],
   "source": [
    "from mtcnn.mtcnn import MTCNN"
   ]
  },
  {
   "cell_type": "code",
   "execution_count": 3,
   "metadata": {},
   "outputs": [],
   "source": [
    "import cv2"
   ]
  },
  {
   "cell_type": "code",
   "execution_count": 4,
   "metadata": {},
   "outputs": [],
   "source": [
    "img=cv2.imread(\"Img1.jpg\")"
   ]
  },
  {
   "cell_type": "code",
   "execution_count": 5,
   "metadata": {},
   "outputs": [],
   "source": [
    "cv2.imshow(\"Image\",img)\n",
    "cv2.waitKey(0)\n",
    "cv2. destroyAllWindows()"
   ]
  },
  {
   "cell_type": "code",
   "execution_count": 6,
   "metadata": {},
   "outputs": [],
   "source": [
    "detector=MTCNN()"
   ]
  },
  {
   "cell_type": "code",
   "execution_count": 7,
   "metadata": {},
   "outputs": [
    {
     "name": "stdout",
     "output_type": "stream",
     "text": [
      "{'box': [636, 143, 141, 173], 'confidence': 0.9998249411582947, 'keypoints': {'left_eye': (697, 201), 'right_eye': (756, 223), 'nose': (724, 244), 'mouth_left': (677, 269), 'mouth_right': (724, 288)}}\n",
      "{'box': [902, 307, 39, 49], 'confidence': 0.7021793723106384, 'keypoints': {'left_eye': (918, 327), 'right_eye': (936, 327), 'nose': (929, 338), 'mouth_left': (920, 347), 'mouth_right': (934, 346)}}\n"
     ]
    }
   ],
   "source": [
    "faces=detector.detect_faces(img)\n",
    "for face in faces:\n",
    "    print(face)"
   ]
  },
  {
   "cell_type": "code",
   "execution_count": 8,
   "metadata": {},
   "outputs": [],
   "source": [
    "def create_bbox(img):\n",
    "    faces =detector.detect_faces(img)\n",
    "    bounding_box=faces[0]['box']\n",
    "    keypoints=faces[0]['keypoints']\n",
    "    cv2.rectangle(img,\n",
    "                  (bounding_box[0], bounding_box[1]),\n",
    "                  (bounding_box[0]+bounding_box[2], bounding_box[1]+bounding_box[3]),\n",
    "                   (8,155, 255),\n",
    "                  2)\n",
    "    cv2.circle(img,(keypoints['left_eye']), 2, (6,155, 255), 2) \n",
    "    cv2.circle(img,(keypoints['right_eye']), 2, (0, 155, 255), 2) \n",
    "    cv2.circle(img,(keypoints['nose']), 2, (0, 155, 255), 2) \n",
    "    cv2.circle(img,(keypoints['mouth_left']), 2, (0,155, 255), 2) \n",
    "    cv2.circle(img,(keypoints['mouth_right']), 2, (0,155, 255), 2)\n",
    "    \n",
    "    return img"
   ]
  },
  {
   "cell_type": "code",
   "execution_count": 9,
   "metadata": {},
   "outputs": [],
   "source": [
    "marked_image=create_bbox(img)"
   ]
  },
  {
   "cell_type": "code",
   "execution_count": 10,
   "metadata": {},
   "outputs": [
    {
     "data": {
      "text/plain": [
       "-1"
      ]
     },
     "execution_count": 10,
     "metadata": {},
     "output_type": "execute_result"
    }
   ],
   "source": [
    "cv2.imshow(\"D\",marked_image)\n",
    "cv2.waitKey(0)"
   ]
  },
  {
   "cell_type": "code",
   "execution_count": null,
   "metadata": {},
   "outputs": [],
   "source": []
  }
 ],
 "metadata": {
  "kernelspec": {
   "display_name": "Python 3",
   "language": "python",
   "name": "python3"
  },
  "language_info": {
   "codemirror_mode": {
    "name": "ipython",
    "version": 3
   },
   "file_extension": ".py",
   "mimetype": "text/x-python",
   "name": "python",
   "nbconvert_exporter": "python",
   "pygments_lexer": "ipython3",
   "version": "3.8.5"
  }
 },
 "nbformat": 4,
 "nbformat_minor": 4
}
